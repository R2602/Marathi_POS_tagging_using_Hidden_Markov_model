{
 "cells": [
  {
   "cell_type": "markdown",
   "metadata": {},
   "source": [
    "# Marathi Part-of-Speech Tagging using NLTK and Hidden Markov Model Tagger\n",
    "\n",
    "## Introduction\n",
    "In this tutorial, we will learn how to perform Part-of-Speech (POS) tagging in Marathi using the Natural Language Toolkit (NLTK). POS tagging is the process of assigning grammatical categories (like noun, verb, adjective, etc.) to each word in a sentence.\n",
    "\n",
    "## Prerequisites\n",
    "Before we begin, make sure you have NLTK installed. You can install it using pip:\n",
    " `pip install nltk`\n"
   ]
  },
  {
   "cell_type": "code",
   "execution_count": 1,
   "metadata": {},
   "outputs": [],
   "source": [
    "import nltk\n",
    "from nltk import word_tokenize\n",
    "from nltk.tag import HiddenMarkovModelTagger"
   ]
  },
  {
   "cell_type": "markdown",
   "metadata": {},
   "source": [
    "## Download Marathi Corpus\n",
    "We need to download nltk marathi corpus to train are model.\n",
    "You can do it using:  \n",
    "`nltk.download('indian')`"
   ]
  },
  {
   "cell_type": "code",
   "execution_count": 2,
   "metadata": {},
   "outputs": [
    {
     "name": "stderr",
     "output_type": "stream",
     "text": [
      "[nltk_data] Downloading package indian to\n",
      "[nltk_data]     C:\\Users\\rutwik\\AppData\\Roaming\\nltk_data...\n",
      "[nltk_data]   Package indian is already up-to-date!\n"
     ]
    }
   ],
   "source": [
    "nltk.download('indian')\n",
    "from nltk.corpus import indian"
   ]
  },
  {
   "cell_type": "markdown",
   "metadata": {},
   "source": [
    "## Loading marathi POS provided by nltk\n",
    "To load the Marathi POS tagged corpus, we use the `tagged_sents` function provided by NLTK's Indian corpus."
   ]
  },
  {
   "cell_type": "code",
   "execution_count": 3,
   "metadata": {},
   "outputs": [],
   "source": [
    "tagged_set = indian.tagged_sents('marathi.pos')"
   ]
  },
  {
   "cell_type": "markdown",
   "metadata": {},
   "source": [
    "## Training our model\n",
    "In this section, we will train a Hidden Markov Model (HMM) Tagger for Marathi Part-of-Speech (POS) tagging using NLTK. The HMM Tagger is a statistical model that learns from annotated data to predict the POS tags of words in a sentence."
   ]
  },
  {
   "cell_type": "code",
   "execution_count": 4,
   "metadata": {},
   "outputs": [],
   "source": [
    "hmm_tagger = HiddenMarkovModelTagger.train(tagged_set)"
   ]
  },
  {
   "cell_type": "markdown",
   "metadata": {},
   "source": [
    "## Testing\n",
    "Before moving further we need to know the accuracy of are model, we will use the `HiddenMarkovModelTagger.train()` function from nltk to check the accuracy."
   ]
  },
  {
   "cell_type": "code",
   "execution_count": 5,
   "metadata": {},
   "outputs": [],
   "source": [
    "train_data = tagged_set[:800]\n",
    "test_data = tagged_set[800:1000]\n",
    "hmm_tagger_test = HiddenMarkovModelTagger.train(train_data)"
   ]
  },
  {
   "cell_type": "markdown",
   "metadata": {},
   "source": [
    "## Accuracy Testing\n",
    "To test the accuracy of our HMM Tagger, we will use the `.accuracy()` method provided by NLTK. This method computes the accuracy of the tagger by comparing its predictions against the gold standard annotations in the tagged corpus.\n",
    "Do not use `.evaluate()` method."
   ]
  },
  {
   "cell_type": "code",
   "execution_count": 6,
   "metadata": {},
   "outputs": [
    {
     "name": "stdout",
     "output_type": "stream",
     "text": [
      "Accuracy: 0.9386751518657795\n"
     ]
    }
   ],
   "source": [
    "accuracy = hmm_tagger.accuracy(test_data)\n",
    "print(\"Accuracy:\", accuracy)"
   ]
  },
  {
   "cell_type": "code",
   "execution_count": 7,
   "metadata": {},
   "outputs": [
    {
     "name": "stdin",
     "output_type": "stream",
     "text": [
      " जे झाले ते चांगलेच झाले, जे होत आहे ते चांगलेच होत आहे आणि जे होणार तेही चांगलेच होणार\n"
     ]
    }
   ],
   "source": [
    "sentence = input()"
   ]
  },
  {
   "cell_type": "markdown",
   "metadata": {},
   "source": [
    "## Tokenization\n",
    "Tokenization is a process of making tokens of each word in the sentence \n",
    "We will do tokienization of each word for Further POS tagging"
   ]
  },
  {
   "cell_type": "code",
   "execution_count": 8,
   "metadata": {},
   "outputs": [],
   "source": [
    "tokens = nltk.word_tokenize(sentence)"
   ]
  },
  {
   "cell_type": "markdown",
   "metadata": {},
   "source": [
    "## Creating a Fuction to get POS tags for each Word\n",
    "We will create a get_POS fuction where we will pass article(word) and are hmm_tagger trained on Hidden Markov Model(HMM) to retrieve the corresponding Part-of-Speech (POS) tag for the word."
   ]
  },
  {
   "cell_type": "code",
   "execution_count": 9,
   "metadata": {},
   "outputs": [],
   "source": [
    "def get_POS(article, tagger):\n",
    "    word_tags = tagger.tag(article)\n",
    "    POS = []\n",
    "    for word, tag in word_tags:\n",
    "        POS.append(f\"{word}_{tag}\")\n",
    "    return POS"
   ]
  },
  {
   "cell_type": "markdown",
   "metadata": {},
   "source": [
    "## Final Implementation\n",
    "In this final implementation, we will use our trained Hidden Markov Model (HMM) Tagger to perform Part-of-Speech (POS) tagging for a Marathi sentence. We'll pass the tokenized words of the sentence to the model and obtain the POS tags for each word."
   ]
  },
  {
   "cell_type": "code",
   "execution_count": 10,
   "metadata": {},
   "outputs": [
    {
     "data": {
      "text/plain": [
       "['जे_PRP',\n",
       " 'झाले_VM',\n",
       " 'ते_PRP',\n",
       " 'चांगलेच_NN',\n",
       " 'झाले_VM',\n",
       " ',_SYM',\n",
       " 'जे_PRP',\n",
       " 'होत_VM',\n",
       " 'आहे_VAUX',\n",
       " 'ते_PRP',\n",
       " 'चांगलेच_NN',\n",
       " 'होत_VM',\n",
       " 'आहे_VAUX',\n",
       " 'आणि_CC',\n",
       " 'जे_PRP',\n",
       " 'होणार_VM',\n",
       " 'तेही_SYM',\n",
       " 'चांगलेच_PRP',\n",
       " 'होणार_VM']"
      ]
     },
     "execution_count": 10,
     "metadata": {},
     "output_type": "execute_result"
    }
   ],
   "source": [
    "pos_tag = get_POS(tokens, hmm_tagger)\n",
    "pos_tag"
   ]
  },
  {
   "cell_type": "code",
   "execution_count": null,
   "metadata": {},
   "outputs": [],
   "source": []
  },
  {
   "cell_type": "code",
   "execution_count": null,
   "metadata": {},
   "outputs": [],
   "source": []
  }
 ],
 "metadata": {
  "kernelspec": {
   "display_name": "Python 3 (ipykernel)",
   "language": "python",
   "name": "python3"
  },
  "language_info": {
   "codemirror_mode": {
    "name": "ipython",
    "version": 3
   },
   "file_extension": ".py",
   "mimetype": "text/x-python",
   "name": "python",
   "nbconvert_exporter": "python",
   "pygments_lexer": "ipython3",
   "version": "3.12.1"
  }
 },
 "nbformat": 4,
 "nbformat_minor": 4
}
